{
 "cells": [
  {
   "cell_type": "code",
   "execution_count": 1,
   "metadata": {
    "collapsed": true,
    "jupyter": {
     "outputs_hidden": true
    }
   },
   "outputs": [
    {
     "name": "stdout",
     "output_type": "stream",
     "text": [
      "Requirement already satisfied: pymongo[srv] in /Library/Frameworks/Python.framework/Versions/3.9/lib/python3.9/site-packages (3.11.2)\n",
      "Requirement already satisfied: dnspython<2.0.0,>=1.16.0; extra == \"srv\" in /Library/Frameworks/Python.framework/Versions/3.9/lib/python3.9/site-packages (from pymongo[srv]) (1.16.0)\n",
      "\u001b[33mWARNING: You are using pip version 20.2.3; however, version 20.3.3 is available.\n",
      "You should consider upgrading via the '/Library/Frameworks/Python.framework/Versions/3.9/bin/python3.9 -m pip install --upgrade pip' command.\u001b[0m\n",
      "Note: you may need to restart the kernel to use updated packages.\n"
     ]
    }
   ],
   "source": [
    "pip install pymongo[srv]"
   ]
  },
  {
   "cell_type": "code",
   "execution_count": 2,
   "metadata": {
    "collapsed": true,
    "jupyter": {
     "outputs_hidden": true
    }
   },
   "outputs": [
    {
     "name": "stdout",
     "output_type": "stream",
     "text": [
      "Requirement already satisfied: tabula-py in /Library/Frameworks/Python.framework/Versions/3.9/lib/python3.9/site-packages (2.2.0)\n",
      "Requirement already satisfied: numpy in /Library/Frameworks/Python.framework/Versions/3.9/lib/python3.9/site-packages (from tabula-py) (1.19.4)\n",
      "Requirement already satisfied: pandas>=0.25.3 in /Library/Frameworks/Python.framework/Versions/3.9/lib/python3.9/site-packages (from tabula-py) (1.1.4)\n",
      "Requirement already satisfied: distro in /Library/Frameworks/Python.framework/Versions/3.9/lib/python3.9/site-packages (from tabula-py) (1.5.0)\n",
      "Requirement already satisfied: pytz>=2017.2 in /Library/Frameworks/Python.framework/Versions/3.9/lib/python3.9/site-packages (from pandas>=0.25.3->tabula-py) (2020.4)\n",
      "Requirement already satisfied: python-dateutil>=2.7.3 in /Library/Frameworks/Python.framework/Versions/3.9/lib/python3.9/site-packages (from pandas>=0.25.3->tabula-py) (2.8.1)\n",
      "Requirement already satisfied: six>=1.5 in /Library/Frameworks/Python.framework/Versions/3.9/lib/python3.9/site-packages (from python-dateutil>=2.7.3->pandas>=0.25.3->tabula-py) (1.15.0)\n",
      "\u001b[33mWARNING: You are using pip version 20.2.3; however, version 20.3.3 is available.\n",
      "You should consider upgrading via the '/Library/Frameworks/Python.framework/Versions/3.9/bin/python3.9 -m pip install --upgrade pip' command.\u001b[0m\n",
      "Note: you may need to restart the kernel to use updated packages.\n"
     ]
    }
   ],
   "source": [
    "pip install tabula-py"
   ]
  },
  {
   "cell_type": "code",
   "execution_count": 8,
   "metadata": {},
   "outputs": [],
   "source": [
    "import tabula\n",
    "import pymongo\n",
    "from pymongo import MongoClient\n",
    "import pandas as pd\n",
    "import sys\n",
    "import csv"
   ]
  },
  {
   "cell_type": "markdown",
   "metadata": {},
   "source": [
    "Creating Mongodb client"
   ]
  },
  {
   "cell_type": "code",
   "execution_count": 39,
   "metadata": {},
   "outputs": [],
   "source": [
    "client=pymongo.MongoClient(\"localhost\",27017)\n",
    "db = client.test\n",
    "\n"
   ]
  },
  {
   "cell_type": "code",
   "execution_count": 40,
   "metadata": {},
   "outputs": [
    {
     "name": "stdin",
     "output_type": "stream",
     "text": [
      "Enter file path:  1c1edeee-a13e-4b2e-90be-eb1dd03c3384.pdf\n",
      "Enter  Collection name for database:  delete\n"
     ]
    },
    {
     "name": "stdout",
     "output_type": "stream",
     "text": [
      "[{0: 'Date', 1: 'Particulars', 2: 'Type of Interactlon'}, {0: 'April 06, 2018', 1: 'SBICAP Securities Ltd', 2: 'One on One'}]\n"
     ]
    }
   ],
   "source": [
    "def csv_to_json(filename, header=None):\n",
    "    data = pd.read_csv(filename, header=None)\n",
    "    return data.to_dict('records')\n",
    "\n",
    "path = str(input(\"Enter file path: \"))\n",
    "name = str(input(\"Enter  Collection name for database: \"))\n",
    "\n",
    "records = db[name]\n",
    "tabula.convert_into(path , f\"./{name}.csv\" , output_format=\"csv\", pages='all')\n",
    "file_data=(csv_to_json(f\"./{name}.csv\"))\n",
    "print(file_data)"
   ]
  },
  {
   "cell_type": "code",
   "execution_count": 41,
   "metadata": {},
   "outputs": [],
   "source": [
    "\n",
    "l=[]\n",
    "for i in range(len(file_data)):\n",
    "    FILE={}\n",
    "    for key in file_data[i]:\n",
    "        FILE[str(key)]=file_data[i][key]\n",
    "    l.append(FILE)"
   ]
  },
  {
   "cell_type": "code",
   "execution_count": 42,
   "metadata": {},
   "outputs": [
    {
     "data": {
      "text/plain": [
       "[{'0': 'Date', '1': 'Particulars', '2': 'Type of Interactlon'},\n",
       " {'0': 'April 06, 2018', '1': 'SBICAP Securities Ltd', '2': 'One on One'}]"
      ]
     },
     "execution_count": 42,
     "metadata": {},
     "output_type": "execute_result"
    }
   ],
   "source": [
    "l"
   ]
  },
  {
   "cell_type": "code",
   "execution_count": 43,
   "metadata": {},
   "outputs": [],
   "source": [
    "if isinstance(l, list): \n",
    "    records.insert_many(l)   \n",
    "else: \n",
    "    records.insert_one(l) "
   ]
  },
  {
   "cell_type": "code",
   "execution_count": 44,
   "metadata": {},
   "outputs": [],
   "source": [
    "abc=records.find()"
   ]
  },
  {
   "cell_type": "code",
   "execution_count": 45,
   "metadata": {},
   "outputs": [
    {
     "data": {
      "text/plain": [
       "[{'_id': ObjectId('5ff0558378564f9b0a33e0b4'),\n",
       "  '0': 'Date',\n",
       "  '1': 'Particulars',\n",
       "  '2': 'Type of Interactlon'},\n",
       " {'_id': ObjectId('5ff0558378564f9b0a33e0b5'),\n",
       "  '0': 'April 06, 2018',\n",
       "  '1': 'SBICAP Securities Ltd',\n",
       "  '2': 'One on One'}]"
      ]
     },
     "execution_count": 45,
     "metadata": {},
     "output_type": "execute_result"
    }
   ],
   "source": [
    "list(abc)"
   ]
  },
  {
   "cell_type": "code",
   "execution_count": 46,
   "metadata": {},
   "outputs": [],
   "source": [
    "import tabula\n",
    "import pandas as pd\n",
    "import numpy as np\n",
    "from IPython.display import display"
   ]
  },
  {
   "cell_type": "code",
   "execution_count": 48,
   "metadata": {},
   "outputs": [],
   "source": [
    "doc='1c1edeee-a13e-4b2e-90be-eb1dd03c3384.pdf'\n",
    "df = tabula.read_pdf(doc, pages=\"all\")"
   ]
  },
  {
   "cell_type": "code",
   "execution_count": 49,
   "metadata": {},
   "outputs": [
    {
     "data": {
      "text/html": [
       "<div>\n",
       "<style scoped>\n",
       "    .dataframe tbody tr th:only-of-type {\n",
       "        vertical-align: middle;\n",
       "    }\n",
       "\n",
       "    .dataframe tbody tr th {\n",
       "        vertical-align: top;\n",
       "    }\n",
       "\n",
       "    .dataframe thead th {\n",
       "        text-align: right;\n",
       "    }\n",
       "</style>\n",
       "<table border=\"1\" class=\"dataframe\">\n",
       "  <thead>\n",
       "    <tr style=\"text-align: right;\">\n",
       "      <th></th>\n",
       "      <th>Date</th>\n",
       "      <th>Particulars</th>\n",
       "      <th>Type of Interactlon</th>\n",
       "    </tr>\n",
       "  </thead>\n",
       "  <tbody>\n",
       "    <tr>\n",
       "      <th>0</th>\n",
       "      <td>April 06, 2018</td>\n",
       "      <td>SBICAP Securities Ltd</td>\n",
       "      <td>One on One</td>\n",
       "    </tr>\n",
       "  </tbody>\n",
       "</table>\n",
       "</div>"
      ],
      "text/plain": [
       "             Date            Particulars Type of Interactlon\n",
       "0  April 06, 2018  SBICAP Securities Ltd          One on One"
      ]
     },
     "metadata": {},
     "output_type": "display_data"
    }
   ],
   "source": [
    "for x in df:\n",
    "    dfobj=pd.DataFrame(x)\n",
    "    display(dfobj)"
   ]
  },
  {
   "cell_type": "code",
   "execution_count": null,
   "metadata": {},
   "outputs": [],
   "source": []
  }
 ],
 "metadata": {
  "kernelspec": {
   "display_name": "Python 3",
   "language": "python",
   "name": "python3"
  },
  "language_info": {
   "codemirror_mode": {
    "name": "ipython",
    "version": 3
   },
   "file_extension": ".py",
   "mimetype": "text/x-python",
   "name": "python",
   "nbconvert_exporter": "python",
   "pygments_lexer": "ipython3",
   "version": "3.9.0"
  }
 },
 "nbformat": 4,
 "nbformat_minor": 4
}
